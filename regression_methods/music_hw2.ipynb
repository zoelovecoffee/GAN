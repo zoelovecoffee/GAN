{
 "cells": [
  {
   "cell_type": "code",
   "execution_count": 6,
   "metadata": {},
   "outputs": [],
   "source": [
    "#Part 1\n",
    "import numpy as np\n",
    "from io import StringIO\n",
    "import matplotlib.pyplot as plt\n",
    "\n",
    "def loadMusicData(fname, addBias):\n",
    "    data = np.loadtxt(\"YearPredictionMSD.txt\", delimiter=\",\" )\n",
    "    bias = np.array([addBias] * len(data)).reshape((len(data),1))\n",
    "    temp = np.append(data,bias,axis = 1)\n",
    "    alltrain = temp[:463715,:]\n",
    "    alltest = temp[463715:,:]\n",
    "    return alltrain[:,0], alltrain[:,1:], alltest[:,0], alltest[:, 1:]\n",
    "    \n",
    "trainYears, trainFeat, testYears, testFeat = loadMusicData(\"YearPredictionMSD.txt\", 1)      \n",
    "\n",
    "def musicMSE(x,gt):\n",
    "    pd = np.rint(x)\n",
    "    a = 0.0\n",
    "    for i in range(len(pd)):\n",
    "        sq = (pd[i] - gt[i])**2\n",
    "        a += sq\n",
    "    return a/len(pd)  \n",
    "\n",
    "train_normed = trainFeat\n",
    "test_normed = testFeat\n",
    "train_mean = np.mean(trainFeat[:,:-1])\n",
    "train_std = np.std(trainFeat[:,:-1])\n",
    "train_normed[:,:-1] = (trainFeat[:,:-1] - train_mean) / train_std\n",
    "test_normed[:,:-1] = (testFeat[:,:-1] - train_mean) / train_std"
   ]
  },
  {
   "cell_type": "code",
   "execution_count": 70,
   "metadata": {},
   "outputs": [
    {
     "name": "stdout",
     "output_type": "stream",
     "text": [
      "190.08607398799148\n",
      "118.00972302924656\n"
     ]
    }
   ],
   "source": [
    "yr2007 = 2007 * np.ones(testYears.shape)\n",
    "print(musicMSE(yr2007, testYears))\n",
    "yr1998 = 1998 * np.ones(testYears.shape)\n",
    "print(musicMSE(yr1998, testYears))"
   ]
  },
  {
   "cell_type": "code",
   "execution_count": 71,
   "metadata": {},
   "outputs": [
    {
     "data": {
      "image/png": "[encoded data removed]",
      "text/plain": [
       "<Figure size 432x288 with 1 Axes>"
      ]
     },
     "metadata": {
      "needs_background": "light"
     },
     "output_type": "display_data"
    }
   ],
   "source": [
    "train_hist = np.array(trainYears) \n",
    "test_hist = np.array(testYears)\n",
    "plt.hist(train_hist, bins = [1920,1930,1940,1950,1960,1970,1980,1990,2000,2010,2020], label = 'train_set') \n",
    "plt.hist(test_hist, bins = [1920,1930,1940,1950,1960,1970,1980,1990,2000,2010,2020], label = 'test_set')\n",
    "plt.title( \"train & test years histogram\") \n",
    "plt.legend()\n",
    "plt.show()"
   ]
  },
  {
   "cell_type": "code",
   "execution_count": 61,
   "metadata": {},
   "outputs": [],
   "source": [
    "# Part 2 L2 Norm\n",
    "np.random.seed(0)\n",
    "wt2 = np.random.normal(size = (91,1))\n",
    "sample_num = train_normed.shape[0]\n",
    "decay_factor = 0.001\n",
    "momentum = 0.05\n",
    "learning_rate = 0.02\n",
    "alpha = 0.1\n",
    "\n",
    "train_loss_l2 = []\n",
    "for e in range(1000):\n",
    "    batch_loss = []\n",
    "    idx = np.random.permutation(sample_num)\n",
    "    x = train_normed[idx] \n",
    "    y = trainYears[idx]\n",
    "    for i in range(0,sample_num,200):\n",
    "        batchx = x[i:i+200]\n",
    "        batchy = y[i:i+200]\n",
    "        length = batchx.shape[0]\n",
    "        y_gt = batchy.reshape((length,1))\n",
    "        y_hat = np.dot(batchx,wt2)\n",
    "        loss_sq = np.square(y_hat - y_gt)\n",
    "        total_loss = (np.sum(loss_sq) + alpha * np.sum(wt2 ** 2))\n",
    "        batch_loss.append(total_loss)\n",
    "        dw = (2 / length) * (np.dot(batchx.T, (y_hat - y_gt)) + decay_factor * alpha * wt2)\n",
    "        wt2 = wt2 - momentum * learning_rate * dw \n",
    "    ls = np.sum(batch_loss)/ len(batch_loss) \n",
    "    train_loss_l2.append(ls)"
   ]
  },
  {
   "cell_type": "code",
   "execution_count": 63,
   "metadata": {},
   "outputs": [
    {
     "data": {
      "image/png": "[encoded data removed]",
      "text/plain": [
       "<Figure size 432x288 with 1 Axes>"
      ]
     },
     "metadata": {
      "needs_background": "light"
     },
     "output_type": "display_data"
    }
   ],
   "source": [
    "num_epoches = np.arange(1,1001) \n",
    "plt.plot(num_epoches, train_loss_l2, label = 'train_losses')\n",
    "plt.xlabel('# of epoches') \n",
    "plt.ylabel('losses')\n",
    "plt.title('losses at epoches') \n",
    "plt.legend()\n",
    "plt.show()  "
   ]
  },
  {
   "cell_type": "code",
   "execution_count": 65,
   "metadata": {},
   "outputs": [
    {
     "name": "stdout",
     "output_type": "stream",
     "text": [
      "[132.98656934] [130.0669572]\n"
     ]
    }
   ],
   "source": [
    "train_result_l2 = np.dot(train_normed, wt2)\n",
    "test_result_l2 = np.dot(test_normed, wt2)\n",
    "    \n",
    "train_mse_l2 = musicMSE(train_result_l2,trainYears)\n",
    "test_mse_l2 = musicMSE(test_result_l2,testYears)   \n",
    "print(train_mse_l2,test_mse_l2)"
   ]
  },
  {
   "cell_type": "code",
   "execution_count": 159,
   "metadata": {},
   "outputs": [
    {
     "name": "stdout",
     "output_type": "stream",
     "text": [
      "91.34564333696343 90.5472399767577\n"
     ]
    }
   ],
   "source": [
    "# Pseudo inverse method\n",
    "inv_method = np.dot(train_normed.T,train_normed)\n",
    "inv_it = np.linalg.inv(inv_method) \n",
    "pseudo_w = np.dot(np.dot(inv_it,train_normed.T),trainYears)\n",
    "train_pseudo = np.dot(train_normed, pseudo_w)\n",
    "test_pseudo = np.dot(test_normed, pseudo_w)\n",
    "train_mse = musicMSE(train_pseudo,trainYears)\n",
    "test_mse = musicMSE(test_pseudo,testYears)   \n",
    "print(train_mse,test_mse)"
   ]
  },
  {
   "cell_type": "code",
   "execution_count": 66,
   "metadata": {},
   "outputs": [],
   "source": [
    "# Part 3 L1 weight decay\n",
    "np.random.seed(0)\n",
    "wt1 = np.random.normal(size = (91,1))\n",
    "decay_factor = 0.001\n",
    "momentum = 0.05\n",
    "learning_rate = 0.02\n",
    "alpha = 0.1\n",
    "\n",
    "train_loss_l1 = []\n",
    "for e in range(1500):\n",
    "    batch_loss_l1 = []\n",
    "    idx = np.random.permutation(sample_num)\n",
    "    x = train_normed[idx] \n",
    "    y = trainYears[idx]\n",
    "    for i in range(0,sample_num,200):\n",
    "        batchx = x[i:i+200]\n",
    "        batchy = y[i:i+200]\n",
    "        length = batchx.shape[0]\n",
    "        y_gt = batchy.reshape((length,1))\n",
    "        y_hat = np.dot(batchx,wt1)\n",
    "        loss_sq = np.square(y_hat - y_gt)\n",
    "        abst = np.absolute(wt1)\n",
    "        total_loss = np.sum(loss_sq) + alpha * np.sum(abst)\n",
    "        batch_loss_l1.append(total_loss)\n",
    "        dw = (2 / length) * (np.dot(batchx.T,(y_hat - y_gt)) + decay_factor*alpha*np.ones(wt1.shape))\n",
    "        wt1 = wt1 - momentum * learning_rate * dw \n",
    "    ls = np.sum(batch_loss_l1)/ len(batch_loss_l1) \n",
    "    train_loss_l1.append(ls)    "
   ]
  },
  {
   "cell_type": "code",
   "execution_count": 68,
   "metadata": {},
   "outputs": [
    {
     "name": "stdout",
     "output_type": "stream",
     "text": [
      "[117.22092233] [115.40989735]\n"
     ]
    }
   ],
   "source": [
    "train_result_l1 = np.dot(train_normed, wt1)\n",
    "test_result_l1 = np.dot(test_normed, wt1)\n",
    "    \n",
    "train_mse_l1 = musicMSE(train_result_l1,trainYears)\n",
    "test_mse_l1 = musicMSE(test_result_l1,testYears)   \n",
    "print(train_mse_l1,test_mse_l1)"
   ]
  },
  {
   "cell_type": "code",
   "execution_count": 73,
   "metadata": {},
   "outputs": [
    {
     "data": {
      "image/png": "[encoded data removed]",
      "text/plain": [
       "<Figure size 432x288 with 1 Axes>"
      ]
     },
     "metadata": {
      "needs_background": "light"
     },
     "output_type": "display_data"
    }
   ],
   "source": [
    "l2_hist = np.array(wt2) \n",
    "l1_hist = np.array(wt1)\n",
    "plt.hist(l2_hist, bins = np.linspace(-50, 50, 90), alpha=0.5, label = 'l2_weight') \n",
    "plt.hist(l1_hist, bins = np.linspace(-50, 50, 90), alpha=0.5, label = 'l1_weight')\n",
    "plt.title( \"weight histogram\") \n",
    "plt.legend()\n",
    "plt.show()"
   ]
  },
  {
   "cell_type": "code",
   "execution_count": 138,
   "metadata": {},
   "outputs": [],
   "source": [
    "# Part 4 Poisson regression             \n",
    "np.random.seed(0)\n",
    "w_psn = 0.001*np.random.normal(size = (91,1))\n",
    "decay_factor = 0.001\n",
    "momentum = 0.005\n",
    "learning_rate = 0.00001\n",
    "alpha = 0.1\n",
    "\n",
    "train_loss_psn = []\n",
    "for e in range(800):\n",
    "    batch_loss_psn = []\n",
    "    idx = np.random.permutation(sample_num)\n",
    "    x = train_normed[idx] \n",
    "    y = trainYears[idx]\n",
    "    for i in range(0,sample_num,1000):\n",
    "        batchx = x[i:i+1000]\n",
    "        batchy = y[i:i+1000]\n",
    "        length = batchx.shape[0]\n",
    "        y_gt = batchy.reshape((length,1))\n",
    "        y_hat = np.dot(batchx,w_psn)\n",
    "        diff = np.exp(y_hat) - y_gt * y_hat\n",
    "        loss = np.sum(diff)\n",
    "        batch_loss_psn.append(loss)\n",
    "\n",
    "        dw_temp = np.exp(y_hat) - y_gt\n",
    "        dw = (1/length)*np.dot(batchx.T, dw_temp)\n",
    "    \n",
    "        w_psn = w_psn - momentum * learning_rate * dw \n",
    "    ls = np.sum(batch_loss_psn)/ len(batch_loss_psn) \n",
    "    train_loss_psn.append(ls)                "
   ]
  },
  {
   "cell_type": "code",
   "execution_count": 142,
   "metadata": {},
   "outputs": [
    {
     "data": {
      "image/png": "[encoded data removed]",
      "text/plain": [
       "<Figure size 432x288 with 1 Axes>"
      ]
     },
     "metadata": {
      "needs_background": "light"
     },
     "output_type": "display_data"
    }
   ],
   "source": [
    "num_epoches = np.arange(1,801)\n",
    "  \n",
    "plt.plot(num_epoches, train_loss_psn, label = 'train_losses')\n",
    "plt.xlabel('# of epoches') \n",
    "plt.ylabel('losses')\n",
    "plt.title('losses at epoches') \n",
    "plt.legend()\n",
    "plt.show()  "
   ]
  },
  {
   "cell_type": "code",
   "execution_count": 140,
   "metadata": {},
   "outputs": [
    {
     "name": "stdout",
     "output_type": "stream",
     "text": [
      "[3965184.72627584] [3965572.49316289]\n"
     ]
    }
   ],
   "source": [
    "train_result_psn = np.dot(train_normed, w_psn)\n",
    "test_result_psn = np.dot(test_normed, w_psn)\n",
    "    \n",
    "train_mse_psn = musicMSE(train_result_psn,trainYears)\n",
    "test_mse_psn = musicMSE(test_result_psn,testYears)   \n",
    "print(train_mse_psn,test_mse_psn)"
   ]
  },
  {
   "cell_type": "code",
   "execution_count": 150,
   "metadata": {},
   "outputs": [],
   "source": [
    "# One-Hot Encoding for Softmax\n",
    "train_1hot = np.zeros((train_normed.shape[0],90))\n",
    "test_1hot = np.zeros((test_normed.shape[0],90))\n",
    "for i in range(train_normed.shape[0]):\n",
    "    ind = int(trainYears[i] - 1922)\n",
    "    train_1hot[i][ind]= 1\n",
    "for i in range(test_normed.shape[0]):\n",
    "    ind = int(testYears[i] - 1922)\n",
    "    test_1hot[i][ind] = 1    "
   ]
  },
  {
   "cell_type": "code",
   "execution_count": 156,
   "metadata": {},
   "outputs": [],
   "source": [
    "def softmax(x):\n",
    "    e_x = np.exp(x - np.max(x, axis = 1).reshape(-1,1))\n",
    "    summation = np.sum(e_x, axis = 1).reshape(-1,1)\n",
    "    return e_x / summation \n",
    "    \n",
    "def lossfunction(x,y):\n",
    "    global w_sf\n",
    "    global decay_factor_sf\n",
    "    global learning_rate_sf\n",
    "    num = x.shape[0]\n",
    "    sc = np.dot(x, w_sf)\n",
    "    y_hat = softmax(sc)\n",
    "    loss = -np.log(y_hat) * y \n",
    "    l2reg = (0.5) * decay_factor_sf * np.sum(w_sf ** 2)\n",
    "    total_loss = (np.sum(loss) / num) + l2reg\n",
    "    dw = ((-1 / num) * np.dot(x.T, (y - y_hat)))                    \n",
    "    return total_loss, dw\n",
    "\n",
    "def SGDminiBatch(x,y):\n",
    "    global w_sf\n",
    "    global delta_w_sf\n",
    "    global momentum_sf\n",
    "    global batch_size_sf\n",
    "    global learning_rate_sf\n",
    "    idx = np.random.permutation(train_normed.shape[0])\n",
    "    x = train_normed[idx]\n",
    "    y = train_1hot[idx]\n",
    "    losses = []\n",
    "    for i in range(0,train_normed.shape[0],batch_size_sf):\n",
    "        batchx = x[i:i+batch_size_sf]\n",
    "        batchy = y[i:i+batch_size_sf]\n",
    "        ls,dw = lossfunction(batchx,batchy)\n",
    "        delta_w_sf = momentum_sf * delta_w_sf + learning_rate_sf * dw\n",
    "        w_sf = w_sf - delta_w_sf\n",
    "        losses.append(ls)\n",
    "    return np.sum(losses)/ len(losses)\n",
    "\n",
    "def trainModel(train_normed, train_1hot, test_normed, test_1hot):\n",
    "    global w_sf\n",
    "    global delta_w_sf\n",
    "    global epoches_sf\n",
    "    global learning_rate_sf\n",
    "    train_losses = []\n",
    "    for e in range(epoches_sf):\n",
    "        train_loss = SGDminiBatch(train_normed,train_1hot)       \n",
    "        train_losses.append(train_loss)\n",
    "    return train_losses,w_sf \n",
    "\n",
    "global w_sf\n",
    "global delta_w_sf\n",
    "global epoches_sf\n",
    "global momentum_sf\n",
    "global batch_size_sf\n",
    "global learning_rate_sf\n",
    "global decay_factor_sf\n",
    "\n",
    "np.random.seed(0)\n",
    "delta_w_sf = np.zeros((91,90))\n",
    "w_sf = np.random.normal(size = (91,90))\n",
    "epoches_sf = 500             \n",
    "batch_size_sf = 1000\n",
    "decay_factor_sf = 0.0001\n",
    "momentum_sf = 0.0005\n",
    "learning_rate_sf = 0.001\n",
    "\n",
    "train_losses,w_sf = trainModel(train_normed, train_1hot, test_normed, test_1hot)"
   ]
  },
  {
   "cell_type": "code",
   "execution_count": 161,
   "metadata": {},
   "outputs": [
    {
     "data": {
      "image/png": "[encoded data removed]",
      "text/plain": [
       "<Figure size 432x288 with 1 Axes>"
      ]
     },
     "metadata": {
      "needs_background": "light"
     },
     "output_type": "display_data"
    }
   ],
   "source": [
    "num_epoches = np.arange(1,501)\n",
    "  \n",
    "plt.plot(num_epoches, train_losses, label = 'train_losses')\n",
    "plt.xlabel('# of epoches') \n",
    "plt.ylabel('softmax losses')\n",
    "plt.title('losses at epoches') \n",
    "plt.legend()\n",
    "plt.show()  "
   ]
  },
  {
   "cell_type": "code",
   "execution_count": 164,
   "metadata": {},
   "outputs": [
    {
     "name": "stdout",
     "output_type": "stream",
     "text": [
      "204.0505439763648 197.88582219639744\n"
     ]
    }
   ],
   "source": [
    "result_sf_tra = np.dot(train_normed, w_sf)\n",
    "result_sf_tst = np.dot(test_normed, w_sf)\n",
    "\n",
    "pd_tra = np.argmax(result_sf_tra, axis=1) + 1922\n",
    "pd_tst = np.argmax(result_sf_tst, axis=1) + 1922\n",
    "\n",
    "train_mse_sf = musicMSE(pd_tra,trainYears)\n",
    "test_mse_sf = musicMSE(pd_tst,testYears)   \n",
    "print(train_mse_sf,test_mse_sf)"
   ]
  },
  {
   "cell_type": "code",
   "execution_count": 173,
   "metadata": {},
   "outputs": [
    {
     "data": {
      "image/png": "[encoded data removed]",
      "text/plain": [
       "<Figure size 432x288 with 1 Axes>"
      ]
     },
     "metadata": {
      "needs_background": "light"
     },
     "output_type": "display_data"
    }
   ],
   "source": [
    "######## Year Prediction ##########\n",
    "l2_yr = np.dot(train_normed,wt2)\n",
    "l1_yr = np.dot(train_normed,wt1)\n",
    "pn_yr = np.dot(train_normed,w_psn)\n",
    "sf_idx = np.dot(train_normed,w_sf)\n",
    "sf_yr = np.argmax(sf_idx, axis=1) + 1922\n",
    "\n",
    "plt.hist(l2_yr, bins = np.linspace(1920, 2020, 50), alpha=0.4, label = 'l2_yr') \n",
    "plt.hist(l1_yr, bins = np.linspace(1920, 2020, 50), alpha=0.4, label = 'l1_yr')\n",
    "plt.hist(pn_yr, bins = np.linspace(1920, 2020, 50), alpha=0.4, label = 'psn_yr')\n",
    "plt.hist(sf_yr, bins = np.linspace(1920, 2020, 50), alpha=0.4, label = 'sf_yr') \n",
    "plt.title( \"Year Prediction Histogram\") \n",
    "plt.legend()\n",
    "plt.show()"
   ]
  },
  {
   "cell_type": "code",
   "execution_count": 210,
   "metadata": {},
   "outputs": [],
   "source": [
    "import collections\n",
    "yr_count = np.array(trainYears)\n",
    "yr_freq = collections.Counter(yr_count)\n",
    "\n",
    "def accu_per_year(x,gt):\n",
    "    yr = np.zeros((90,1))\n",
    "    for i in range(1922,2012):\n",
    "        num = yr_freq[i]\n",
    "        if num > 0:\n",
    "            get_idx = np.where(gt == i)\n",
    "            idx_cl = np.array(get_idx).reshape((-1,1))\n",
    "            get_y = gt[idx_cl]\n",
    "            get_yhat = x[idx_cl]\n",
    "            accu = np.sum(get_y == get_yhat)/num\n",
    "            yr[i-1922] = accu\n",
    "    return yr        \n",
    "\n",
    "lg = len(trainYears)\n",
    "l2_yrs = np.rint(l2_yr).reshape((lg,))\n",
    "l2_accu = accu_per_year(l2_yrs,trainYears)\n",
    "l1_yrs = np.rint(l1_yr).reshape((lg,))\n",
    "l1_accu = accu_per_year(l1_yrs,trainYears)\n",
    "sf_yrs = np.rint(sf_yr).reshape((lg,))\n",
    "sf_accu = accu_per_year(sf_yrs,trainYears)    "
   ]
  },
  {
   "cell_type": "code",
   "execution_count": 217,
   "metadata": {},
   "outputs": [
    {
     "data": {
      "image/png": "[encoded data removed]",
      "text/plain": [
       "<Figure size 432x288 with 1 Axes>"
      ]
     },
     "metadata": {
      "needs_background": "light"
     },
     "output_type": "display_data"
    }
   ],
   "source": [
    "all_years = np.arange(1922,2012)\n",
    "a = l2_accu\n",
    "b = l1_accu\n",
    "c = sf_accu \n",
    "plt.plot(all_years, a, label = 'l2')\n",
    "plt.plot(all_years, b, label = 'l1')\n",
    "plt.plot(all_years, c, label = 'softmax')\n",
    "plt.xlabel('years') \n",
    "plt.ylabel('accuracy')\n",
    "plt.title('Accuracy of Prediction') \n",
    "plt.legend()\n",
    "plt.show()  "
   ]
  },
  {
   "cell_type": "code",
   "execution_count": null,
   "metadata": {},
   "outputs": [],
   "source": []
  }
 ],
 "metadata": {
  "kernelspec": {
   "display_name": "Python 3",
   "language": "python",
   "name": "python3"
  },
  "language_info": {
   "codemirror_mode": {
    "name": "ipython",
    "version": 3
   },
   "file_extension": ".py",
   "mimetype": "text/x-python",
   "name": "python",
   "nbconvert_exporter": "python",
   "pygments_lexer": "ipython3",
   "version": "3.7.4"
  }
 },
 "nbformat": 4,
 "nbformat_minor": 2
}
