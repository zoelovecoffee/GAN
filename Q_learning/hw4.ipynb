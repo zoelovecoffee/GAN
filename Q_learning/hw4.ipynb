{
 "cells": [
  {
   "cell_type": "code",
   "execution_count": 1,
   "metadata": {},
   "outputs": [],
   "source": [
    "import numpy as np\n",
    "import collections\n",
    "import random\n",
    "import copy\n",
    "import numpy.linalg as la\n",
    "import matplotlib.pyplot as plt"
   ]
  },
  {
   "cell_type": "code",
   "execution_count": 2,
   "metadata": {},
   "outputs": [],
   "source": [
    "class MDP:\n",
    "    def __init__(self, left, up, right, down, reward, gamma=0.99):\n",
    "        self.actions = [left, up, right, down]\n",
    "        self.reward = reward\n",
    "        self.gamma = gamma\n",
    "        self.state = list(range(1,82))"
   ]
  },
  {
   "cell_type": "code",
   "execution_count": 3,
   "metadata": {},
   "outputs": [],
   "source": [
    "def loadMDP():\n",
    "    with open('grid-world-environment/prob-a1.txt') as f:\n",
    "        left = collections.defaultdict(dict)\n",
    "        data = f.readlines()\n",
    "        for prob in data:\n",
    "            st, st1, p = prob.split()\n",
    "            left[int(st)][int(st1)] = float(p)\n",
    "    with open('grid-world-environment/prob-a2.txt') as f:\n",
    "        up = collections.defaultdict(dict)\n",
    "        data = f.readlines()\n",
    "        for prob in data:\n",
    "            st, st1, p = prob.split()\n",
    "            up[int(st)][int(st1)] = float(p)\n",
    "    with open('grid-world-environment/prob-a3.txt') as f:\n",
    "        right = collections.defaultdict(dict)\n",
    "        data = f.readlines()\n",
    "        for prob in data:\n",
    "            st, st1, p = prob.split()\n",
    "            right[int(st)][int(st1)] = float(p)\n",
    "    with open('grid-world-environment/prob-a4.txt') as f:\n",
    "        down = collections.defaultdict(dict)\n",
    "        data = f.readlines()\n",
    "        for prob in data:\n",
    "            st, st1, p = prob.split()\n",
    "            down[int(st)][int(st1)] = float(p)\n",
    "    with open('grid-world-environment/rewards.txt') as f:\n",
    "        reward = dict()\n",
    "        data = f.readlines()\n",
    "        for i, r in enumerate(data):\n",
    "            reward[i+1] = int(r)\n",
    "    ret_mdp = MDP(left, up, right, down, reward)\n",
    "    return ret_mdp"
   ]
  },
  {
   "cell_type": "code",
   "execution_count": 4,
   "metadata": {},
   "outputs": [],
   "source": [
    "mdp = loadMDP()"
   ]
  },
  {
   "cell_type": "markdown",
   "metadata": {},
   "source": [
    "Part1"
   ]
  },
  {
   "cell_type": "code",
   "execution_count": 5,
   "metadata": {},
   "outputs": [],
   "source": [
    "def init_Q():\n",
    "    Q = dict()\n",
    "    for i in range(1, 82):\n",
    "        Q[i] = np.zeros(4)\n",
    "    return Q"
   ]
  },
  {
   "cell_type": "code",
   "execution_count": 6,
   "metadata": {},
   "outputs": [],
   "source": [
    "def chooseAction(Q, mdp, currState, eps=0.2):\n",
    "    if random.uniform(0,1) < eps:\n",
    "        # explore, randomly choose next move\n",
    "        nextState = currState\n",
    "        while nextState == currState:\n",
    "            choice = random.randint(0, len(mdp.actions[0][currState])-1)\n",
    "            nextState = list(mdp.actions[0][currState].keys())[choice]\n",
    "        if currState - 1 == nextState:\n",
    "            return 1\n",
    "        if currState - 9 == nextState:\n",
    "            return 0\n",
    "        if currState + 1 == nextState:\n",
    "            return 3\n",
    "        elif currState + 9 == nextState:\n",
    "            return 2\n",
    "    # exploit, pick the highest Q[state,action] move  \n",
    "    max_prob = -1\n",
    "    max_act = list()\n",
    "    for nextState in mdp.actions[0][currState]:\n",
    "        if nextState == currState:\n",
    "            continue\n",
    "        if currState - 1 == nextState:\n",
    "            action =  1\n",
    "        elif currState - 9 == nextState:\n",
    "            action = 0\n",
    "        elif currState + 1 == nextState:\n",
    "            action = 3\n",
    "        elif currState + 9 == nextState:\n",
    "            action = 2\n",
    "        if Q[currState][action] > max_prob:\n",
    "            max_prob = Q[currState][action]\n",
    "            max_act = list()\n",
    "            max_act.append(action)\n",
    "        elif Q[currState][action] == max_prob:\n",
    "            max_act.append(action)\n",
    "    return random.choice(max_act)\n",
    "\n",
    "def processAction(mdp, currState, a):\n",
    "    if a==0:\n",
    "        # left\n",
    "        nextState = currState - 9\n",
    "    elif a==1:\n",
    "        # up\n",
    "        nextState = currState - 1\n",
    "    elif a==2:\n",
    "        # right\n",
    "        nextState = currState + 9\n",
    "    else:\n",
    "        # down\n",
    "        nextState = currState + 1\n",
    "    rewardReceived = mdp.reward[nextState]\n",
    "    playing = (nextState != 79 and nextState != 47 and nextState != 49 and nextState != 51 and nextState !=65 and nextState != 67 and nextState != 69)\n",
    "    return nextState, rewardReceived, playing"
   ]
  },
  {
   "cell_type": "code",
   "execution_count": 42,
   "metadata": {},
   "outputs": [],
   "source": [
    "def calc_change(old, new):\n",
    "    old_matrix = np.zeros((81,4))\n",
    "    new_matrix = np.zeros((81,4))\n",
    "    for i in range(81):\n",
    "        for j in range(4):\n",
    "            old_matrix[i][j] = old[i+1][j]\n",
    "            new_matrix[i][j] = new[i+1][j]\n",
    "    return la.norm(old_matrix-new_matrix,'fro')"
   ]
  },
  {
   "cell_type": "code",
   "execution_count": 49,
   "metadata": {},
   "outputs": [
    {
     "name": "stdout",
     "output_type": "stream",
     "text": [
      "----------5000/40000 Complete----------\n",
      "----------10000/40000 Complete----------\n",
      "----------15000/40000 Complete----------\n",
      "----------20000/40000 Complete----------\n",
      "----------25000/40000 Complete----------\n",
      "----------30000/40000 Complete----------\n",
      "----------35000/40000 Complete----------\n",
      "----------40000/40000 Complete----------\n"
     ]
    }
   ],
   "source": [
    "dQ = []\n",
    "max_epoch = 40000\n",
    "Q = init_Q()\n",
    "alpha = 0.1\n",
    "for i in range(max_epoch):\n",
    "    playing = True\n",
    "    state = 3\n",
    "    prev_Q = copy.deepcopy(Q)\n",
    "    while playing:\n",
    "        action = chooseAction(Q, mdp, state, 0.7)\n",
    "        newState, rewardReceived, playing = processAction(mdp, state, action)\n",
    "        # update rule Q[state][action] = (1-alpha)Q[state][action] + alpha(reward + gamma Max(Q[newState][next_act]))\n",
    "        Q[state][action] = (1-alpha)*Q[state][action] + alpha * (rewardReceived + mdp.gamma * np.max(Q[newState]))\n",
    "        state = newState\n",
    "    dQ.append(calc_change(prev_Q, Q))\n",
    "    prev_Q = copy.deepcopy(Q)\n",
    "    if i % 5000 == 4999:\n",
    "        print('----------{}/{} Complete----------'.format(i+1, max_epoch))"
   ]
  },
  {
   "cell_type": "code",
   "execution_count": 50,
   "metadata": {},
   "outputs": [
    {
     "data": {
      "image/png": "[encoded data removed]",
      "text/plain": [
       "<Figure size 432x288 with 1 Axes>"
      ]
     },
     "metadata": {
      "needs_background": "light"
     },
     "output_type": "display_data"
    }
   ],
   "source": [
    "plt.plot(dQ)\n",
    "plt.title('eps = 0.70')\n",
    "plt.show()"
   ]
  },
  {
   "cell_type": "code",
   "execution_count": 39,
   "metadata": {},
   "outputs": [],
   "source": [
    "def get_path(q):\n",
    "    sq = 3\n",
    "    path = [sq]\n",
    "    try:\n",
    "        while sq != 79:\n",
    "            move = np.argmax(q[sq])\n",
    "            if move == 0:\n",
    "                sq -= 9\n",
    "            elif move == 1:\n",
    "                sq -=1\n",
    "            elif move == 2:\n",
    "                sq += 9\n",
    "            else:\n",
    "                sq += 1\n",
    "            path.append(sq)\n",
    "    except:\n",
    "        return path\n",
    "    return path"
   ]
  },
  {
   "cell_type": "code",
   "execution_count": 41,
   "metadata": {
    "scrolled": true
   },
   "outputs": [
    {
     "data": {
      "text/plain": [
       "[3, 12, 11, 20, 29, 30, 39, 48, 57, 58, 59, 60, 61, 70, 79]"
      ]
     },
     "execution_count": 41,
     "metadata": {},
     "output_type": "execute_result"
    }
   ],
   "source": [
    "get_path(Q)"
   ]
  },
  {
   "cell_type": "markdown",
   "metadata": {},
   "source": [
    "Part 2"
   ]
  },
  {
   "cell_type": "code",
   "execution_count": 51,
   "metadata": {},
   "outputs": [],
   "source": [
    "def encodeState(currentState, c=0.01):\n",
    "    # returns 82 dimensional vector\n",
    "    vec = np.zeros(82)\n",
    "    # state is 1-indexed\n",
    "    vec[currentState-1] = 1\n",
    "    vec[-1] = c\n",
    "    return vec\n",
    "def init_w():\n",
    "    w = [np.zeros(82) for _ in range(4)]\n",
    "    return w\n",
    "def chooseAction_oh(w, mdp, currState, eps=0.2):\n",
    "    if random.uniform(0,1) < eps:\n",
    "        # explore, randomly choose next move\n",
    "        nextState = currState\n",
    "        while nextState == currState:\n",
    "            choice = random.randint(0, len(mdp.actions[0][currState])-1)\n",
    "            nextState = list(mdp.actions[0][currState].keys())[choice]\n",
    "        if currState - 1 == nextState:\n",
    "            return 1\n",
    "        if currState - 9 == nextState:\n",
    "            return 0\n",
    "        if currState + 1 == nextState:\n",
    "            return 3\n",
    "        elif currState + 9 == nextState:\n",
    "            return 2\n",
    "    # exploit, pick the highest Q[state,action] move  \n",
    "    max_prob = -float('inf')\n",
    "    max_act = list()\n",
    "    for nextState in mdp.actions[0][currState]:\n",
    "        if nextState == currState:\n",
    "            continue\n",
    "        if currState - 1 == nextState:\n",
    "            action =  1\n",
    "        elif currState - 9 == nextState:\n",
    "            action = 0\n",
    "        elif currState + 1 == nextState:\n",
    "            action = 3\n",
    "        elif currState + 9 == nextState:\n",
    "            action = 2\n",
    "        if w[action].dot(encodeState(currState)) > max_prob:\n",
    "            max_act = list()\n",
    "            max_act.append(action)\n",
    "            max_prob = w[action].dot(encodeState(currState))\n",
    "        elif w[action].dot(encodeState(currState)) == max_prob:\n",
    "            max_act.append(action)\n",
    "    return random.choice(max_act)"
   ]
  },
  {
   "cell_type": "code",
   "execution_count": 52,
   "metadata": {},
   "outputs": [
    {
     "name": "stdout",
     "output_type": "stream",
     "text": [
      "----------1000/10000 Complete----------\n",
      "----------2000/10000 Complete----------\n",
      "----------3000/10000 Complete----------\n",
      "----------4000/10000 Complete----------\n",
      "----------5000/10000 Complete----------\n",
      "----------6000/10000 Complete----------\n",
      "----------7000/10000 Complete----------\n",
      "----------8000/10000 Complete----------\n",
      "----------9000/10000 Complete----------\n",
      "----------10000/10000 Complete----------\n"
     ]
    }
   ],
   "source": [
    "dw = []\n",
    "max_epoch = 10000\n",
    "w = init_w()\n",
    "prev = copy.deepcopy(w)\n",
    "lr = 0.1\n",
    "for i in range(max_epoch):\n",
    "    playing = True\n",
    "    state = 3\n",
    "    state_vec = encodeState(state)\n",
    "    while playing:\n",
    "        action = chooseAction_oh(w, mdp, state)\n",
    "        newState, rewardReceived, playing = processAction(mdp, state, action)\n",
    "        newState_vec = encodeState(newState)\n",
    "        # Update parameters using currentFeatVector, newFeatVector, and rewardReceived\n",
    "        q = w[action].dot(state_vec)\n",
    "        q_plus = rewardReceived + mdp.gamma * max([w[a].dot(newState_vec) for a in range(4)])\n",
    "        best_action = np.argmax([w[a].dot(newState_vec) for a in range(4)])\n",
    "        if best_action == action:\n",
    "            dLoss = (q - q_plus) * (state_vec - mdp.gamma * newState_vec)\n",
    "        else:\n",
    "            dLoss = (q - q_plus) *  state_vec\n",
    "        w[action] -= lr * dLoss\n",
    "        state = newState\n",
    "        state_vec = encodeState(state)\n",
    "    change = 0\n",
    "    for j in range(4):\n",
    "        change += la.norm(prev[j]-w[j])\n",
    "    dw.append(change)\n",
    "    prev = copy.deepcopy(w)\n",
    "    if i % 1000 == 999:\n",
    "        print('----------{}/{} Complete----------'.format(i+1, max_epoch))"
   ]
  },
  {
   "cell_type": "code",
   "execution_count": 53,
   "metadata": {},
   "outputs": [
    {
     "data": {
      "text/plain": [
       "[<matplotlib.lines.Line2D at 0x110095e90>]"
      ]
     },
     "execution_count": 53,
     "metadata": {},
     "output_type": "execute_result"
    },
    {
     "data": {
      "image/png": "[encoded data removed]",
      "text/plain": [
       "<Figure size 432x288 with 1 Axes>"
      ]
     },
     "metadata": {
      "needs_background": "light"
     },
     "output_type": "display_data"
    }
   ],
   "source": [
    "plt.plot(dw)"
   ]
  },
  {
   "cell_type": "code",
   "execution_count": 54,
   "metadata": {},
   "outputs": [],
   "source": [
    "def get_path_vec(weights):\n",
    "    sq = 3\n",
    "    path = [3]\n",
    "    while sq != 79:\n",
    "        move = np.argmax([w[a].dot(encodeState(sq)) for a in range(4)])\n",
    "        if move == 0:\n",
    "            sq -= 9\n",
    "        elif move == 1:\n",
    "            sq -=1\n",
    "        elif move == 2:\n",
    "            sq += 9\n",
    "        else:\n",
    "            sq += 1\n",
    "        path.append(sq)\n",
    "    return path"
   ]
  },
  {
   "cell_type": "code",
   "execution_count": 55,
   "metadata": {},
   "outputs": [
    {
     "data": {
      "text/plain": [
       "[3, 12, 11, 20, 29, 30, 39, 48, 57, 58, 59, 60, 61, 70, 79]"
      ]
     },
     "execution_count": 55,
     "metadata": {},
     "output_type": "execute_result"
    }
   ],
   "source": [
    "get_path_vec(w)"
   ]
  },
  {
   "cell_type": "markdown",
   "metadata": {},
   "source": [
    "Part 3"
   ]
  },
  {
   "cell_type": "code",
   "execution_count": 15,
   "metadata": {},
   "outputs": [],
   "source": [
    "DRAGONS = [47,49,51,65,67,69]\n",
    "def featureVector(sq, c=1):\n",
    "    \"\"\"distance, dragons, goal, bias\"\"\"\n",
    "    # calc l1 dist\n",
    "    temp = sq\n",
    "    col = 0\n",
    "    while temp + 9 < 79:\n",
    "        col += 1\n",
    "        temp += 9\n",
    "    if temp == 79:\n",
    "        dist = col\n",
    "    elif temp > 81:\n",
    "        if state % 9 == 0:\n",
    "            dist = col + 2\n",
    "        if state % 9 == 8:\n",
    "            dist = col + 1\n",
    "    else:\n",
    "        dist = col + 79 - (temp - 9)\n",
    "    # dragons\n",
    "    dragon = 0\n",
    "    if sq - 9 in DRAGONS:\n",
    "        dragon += 1\n",
    "    if sq + 9 in DRAGONS:\n",
    "        dragon += 1\n",
    "    if sq - 1 in DRAGONS:\n",
    "        dragon += 1\n",
    "    if sq + 1 in DRAGONS:\n",
    "        dragon += 1\n",
    "    # goal\n",
    "    goal = 0\n",
    "    if sq - 9 == 79 or sq + 9 == 79 or sq - 1 == 79 or sq + 1 == 79:\n",
    "        goal = 1\n",
    "    return np.array([dist, dragon, goal, c])\n",
    "def init_fw():\n",
    "    w = [np.zeros(4) for _ in range(4)]\n",
    "    return w\n",
    "def chooseAction_fv(fw, mdp, currState, eps=0.2):\n",
    "    if random.uniform(0,1) < eps:\n",
    "        # explore, randomly choose next move\n",
    "        nextState = currState\n",
    "        while nextState == currState:\n",
    "            choice = random.randint(0, len(mdp.actions[0][currState])-1)\n",
    "            nextState = list(mdp.actions[0][currState].keys())[choice]\n",
    "        if currState - 1 == nextState:\n",
    "            return 1\n",
    "        if currState - 9 == nextState:\n",
    "            return 0\n",
    "        if currState + 1 == nextState:\n",
    "            return 3\n",
    "        elif currState + 9 == nextState:\n",
    "            return 2\n",
    "    # exploit, pick the highest Q[state,action] move  \n",
    "    max_prob = -float('inf')\n",
    "    max_act = list()\n",
    "    for nextState in mdp.actions[0][currState]:\n",
    "        if nextState == currState:\n",
    "            continue\n",
    "        if currState - 1 == nextState:\n",
    "            action =  1\n",
    "        elif currState - 9 == nextState:\n",
    "            action = 0\n",
    "        elif currState + 1 == nextState:\n",
    "            action = 3\n",
    "        elif currState + 9 == nextState:\n",
    "            action = 2\n",
    "        if fw[action].dot(featureVector(currState)) > max_prob:\n",
    "            max_act = list()\n",
    "            max_act.append(action)\n",
    "            max_prob = fw[action].dot(featureVector(currState))\n",
    "        elif fw[action].dot(featureVector(currState)) == max_prob:\n",
    "            max_act.append(action)\n",
    "    return random.choice(max_act)"
   ]
  },
  {
   "cell_type": "code",
   "execution_count": 16,
   "metadata": {},
   "outputs": [],
   "source": [
    "dfw = []\n",
    "max_epoch = 10\n",
    "fw = init_fw()\n",
    "fprev = copy.deepcopy(fw)\n",
    "lr = 0.1\n",
    "for i in range(max_epoch):\n",
    "    playing = True\n",
    "    state = 3\n",
    "    state_vec = featureVector(state)\n",
    "    while playing:\n",
    "        action = chooseAction_fv(fw, mdp, state)\n",
    "        newState, rewardReceived, playing = processAction(mdp, state, action)\n",
    "        newState_vec = featureVector(newState)\n",
    "        # Update parameters using currentFeatVector, newFeatVector, and rewardReceived\n",
    "        q = fw[action].dot(state_vec)\n",
    "        q_plus = rewardReceived + mdp.gamma * max([fw[a].dot(newState_vec) for a in range(4)])\n",
    "        best_action = np.argmax([fw[a].dot(newState_vec) for a in range(4)])\n",
    "        if best_action == action:\n",
    "            dLoss = (q - q_plus) * (state_vec - mdp.gamma * newState_vec)\n",
    "        else:\n",
    "            dLoss = (q - q_plus) *  state_vec\n",
    "        fw[action] -= lr * dLoss\n",
    "        # avoid overflow, normalization\n",
    "        norm = la.norm(fw[action]) if la.norm(fw[action]) != 0 else 1\n",
    "        fw[action] = fw[action]/norm\n",
    "        state = newState\n",
    "        state_vec = featureVector(state)\n",
    "    change = 0\n",
    "    for j in range(4):\n",
    "        change += la.norm(fprev[j]-fw[j])\n",
    "    dfw.append(change)\n",
    "    prev = copy.deepcopy(fw)\n",
    "    if i % 50 == 49:\n",
    "        print('----------{}/{} Complete----------'.format(i+1, max_epoch))"
   ]
  },
  {
   "cell_type": "code",
   "execution_count": 17,
   "metadata": {},
   "outputs": [
    {
     "data": {
      "text/plain": [
       "[3, 12, 11, 20, 29, 30, 39, 48, 57, 58, 59, 60, 61, 70, 79]"
      ]
     },
     "execution_count": 17,
     "metadata": {},
     "output_type": "execute_result"
    }
   ],
   "source": [
    "get_path_vec(fw)"
   ]
  },
  {
   "cell_type": "code",
   "execution_count": 18,
   "metadata": {},
   "outputs": [
    {
     "data": {
      "text/plain": [
       "[<matplotlib.lines.Line2D at 0x10674af10>]"
      ]
     },
     "execution_count": 18,
     "metadata": {},
     "output_type": "execute_result"
    },
    {
     "data": {
      "image/png": "[encoded data removed]",
      "text/plain": [
       "<Figure size 432x288 with 1 Axes>"
      ]
     },
     "metadata": {
      "needs_background": "light"
     },
     "output_type": "display_data"
    }
   ],
   "source": [
    "plt.plot(dfw)"
   ]
  },
  {
   "cell_type": "code",
   "execution_count": null,
   "metadata": {},
   "outputs": [],
   "source": []
  }
 ],
 "metadata": {
  "kernelspec": {
   "display_name": "Python 3",
   "language": "python",
   "name": "python3"
  },
  "language_info": {
   "codemirror_mode": {
    "name": "ipython",
    "version": 3
   },
   "file_extension": ".py",
   "mimetype": "text/x-python",
   "name": "python",
   "nbconvert_exporter": "python",
   "pygments_lexer": "ipython3",
   "version": "3.7.4"
  }
 },
 "nbformat": 4,
 "nbformat_minor": 4
}
